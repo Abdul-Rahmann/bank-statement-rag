{
 "cells": [
  {
   "cell_type": "code",
   "id": "b551ef705dba42ac",
   "metadata": {
    "ExecuteTime": {
     "end_time": "2025-11-01T07:13:30.269888Z",
     "start_time": "2025-11-01T07:13:30.266775Z"
    }
   },
   "source": [
    "# import os, json\n",
    "# from langchain.chains import RetrievalQA\n",
    "# from langchain_openai import ChatOpenAI\n",
    "# from langchain_community.document_loaders import UnstructuredPDFLoader\n",
    "# from langchain.text_splitter import RecursiveCharacterTextSplitter\n",
    "# from langchain_community.vectorstores import FAISS\n",
    "# from langchain_openai import OpenAIEmbeddings"
   ],
   "outputs": [],
   "execution_count": 1
  },
  {
   "cell_type": "code",
   "id": "6672cc64",
   "metadata": {
    "ExecuteTime": {
     "end_time": "2025-11-01T07:13:30.350687Z",
     "start_time": "2025-11-01T07:13:30.349124Z"
    }
   },
   "source": [
    "# !pip install langchain langchain-openai langchain-community faiss-cpu unstructured"
   ],
   "outputs": [],
   "execution_count": 2
  },
  {
   "cell_type": "code",
   "id": "fea1891f",
   "metadata": {
    "ExecuteTime": {
     "end_time": "2025-11-01T07:13:30.358042Z",
     "start_time": "2025-11-01T07:13:30.356613Z"
    }
   },
   "source": [
    "# !pip install langchain"
   ],
   "outputs": [],
   "execution_count": 3
  },
  {
   "cell_type": "code",
   "id": "8fda1ed29dd3ad8a",
   "metadata": {
    "ExecuteTime": {
     "end_time": "2025-11-01T07:13:31.121618Z",
     "start_time": "2025-11-01T07:13:30.367516Z"
    }
   },
   "source": [
    "import os, json\n",
    "os.environ['KMP_DUPLICATE_LIB_OK'] = 'TRUE'\n",
    "\n",
    "import faiss\n",
    "from langchain.chains import RetrievalQA\n",
    "from langchain_openai import ChatOpenAI\n",
    "from langchain_community.document_loaders import UnstructuredPDFLoader\n",
    "from langchain.text_splitter import RecursiveCharacterTextSplitter\n",
    "from langchain_community.vectorstores import FAISS\n",
    "from langchain_openai import OpenAIEmbeddings"
   ],
   "outputs": [],
   "execution_count": 4
  },
  {
   "cell_type": "code",
   "id": "fc490089f04b36a8",
   "metadata": {
    "ExecuteTime": {
     "end_time": "2025-11-01T07:13:31.133092Z",
     "start_time": "2025-11-01T07:13:31.130936Z"
    }
   },
   "source": [
    "with open('config.json') as f:\n",
    "    config = json.load(f)\n",
    "\n",
    "OPENAI_API_KEY = config['OPENAI_API_KEY']\n",
    "DATA_DIR = config['DATA_DIR']\n",
    "VECTOR_STORE_PATH = config['VECTORS_DIR']"
   ],
   "outputs": [],
   "execution_count": 5
  },
  {
   "cell_type": "code",
   "id": "36ea0801a92e9279",
   "metadata": {
    "ExecuteTime": {
     "end_time": "2025-11-01T07:13:40.643544Z",
     "start_time": "2025-11-01T07:13:31.139126Z"
    }
   },
   "source": [
    "def load_and_split_pdfs(data_dir):\n",
    "    all_docs = []\n",
    "    for filename in os.listdir(data_dir):\n",
    "        if filename.endswith(\".pdf\"):\n",
    "            loader = UnstructuredPDFLoader(os.path.join(data_dir, filename))\n",
    "            docs = loader.load()\n",
    "            all_docs.extend(docs)\n",
    "\n",
    "    if not all_docs:\n",
    "        raise ValueError(\"No documents found in the directory.\")\n",
    "\n",
    "    splitter = RecursiveCharacterTextSplitter(chunk_size=1000, chunk_overlap=200)\n",
    "    chunks = splitter.split_documents(all_docs)\n",
    "    return chunks\n",
    "\n",
    "chunks = load_and_split_pdfs(DATA_DIR)\n",
    "print(f\"Loaded and splitted {len(chunks)} documents.\")"
   ],
   "outputs": [
    {
     "name": "stderr",
     "output_type": "stream",
     "text": [
      "/Users/adetsi/Desktop/projects/bank-statement-rag/venv/lib/python3.11/site-packages/tqdm/auto.py:21: TqdmWarning: IProgress not found. Please update jupyter and ipywidgets. See https://ipywidgets.readthedocs.io/en/stable/user_install.html\n",
      "  from .autonotebook import tqdm as notebook_tqdm\n"
     ]
    },
    {
     "name": "stdout",
     "output_type": "stream",
     "text": [
      "Warning: No languages specified, defaulting to English.\n",
      "Warning: No languages specified, defaulting to English.\n",
      "Warning: No languages specified, defaulting to English.\n",
      "Warning: No languages specified, defaulting to English.\n",
      "Warning: No languages specified, defaulting to English.\n",
      "Warning: No languages specified, defaulting to English.\n",
      "Warning: No languages specified, defaulting to English.\n",
      "Warning: No languages specified, defaulting to English.\n",
      "Warning: No languages specified, defaulting to English.\n",
      "Warning: No languages specified, defaulting to English.\n",
      "Warning: No languages specified, defaulting to English.\n",
      "Warning: No languages specified, defaulting to English.\n",
      "Warning: No languages specified, defaulting to English.\n",
      "Loaded and splitted 93 documents.\n"
     ]
    }
   ],
   "execution_count": 6
  },
  {
   "cell_type": "code",
   "id": "9bd198b073452804",
   "metadata": {
    "ExecuteTime": {
     "end_time": "2025-11-01T07:25:12.312672Z",
     "start_time": "2025-11-01T07:25:12.309156Z"
    }
   },
   "source": [
    "# !pip install pdfminer.six\n",
    "# !pip install pi-heif\n",
    "\n",
    "chunks[4]\n"
   ],
   "outputs": [
    {
     "data": {
      "text/plain": [
       "Document(page_content='67.20\\n\\nWWW.AMAZON.CA ON\\n\\n006\\n\\nAug 27 Aug 28 AMZN Mktp CA*R40RY19Y0\\n\\n6.69\\n\\nWWW.AMAZON.CA ON\\n\\n007\\n\\nAug 27 Aug 28 AMZN Mktp CA*R42UX4IE0\\n\\n11.14\\n\\nWWW.AMAZON.CA ON\\n\\n008\\n\\nAug 27 Aug 28 AMZN Mktp CA*R45253IH0\\n\\n26.87\\n\\n009\\n\\n010\\n\\n011\\n\\n012\\n\\n013\\n\\nSep 1\\n\\nSep 3\\n\\nSep 5\\n\\nSep 5\\n\\nSep 5\\n\\nSep 3\\n\\nSep 4\\n\\nSep 6\\n\\nSep 6\\n\\nSep 6\\n\\nWWW.AMAZON.CA ON IC* INSTACART HALIFAX MID-H NS PAY) AMZN Mktp CA*RK0O06YH0 WWW.AMAZON.CA ON STAPLES STORE #239 VANCOUVER BC (APPLE PAY) STAPLES STORE #239 VANCOUVER BC (APPLE PAY) STAPLES STORE #239 VANCOUVER BC (APPLE PAY)\\n\\n(APPLE\\n\\n35.47\\n\\n48.15\\n\\n0.63\\n\\n1.26\\n\\n16.90\\n\\nSUB-TOTAL CREDITS - 4537 001 770 517 011 SUB-TOTAL DEBITS - 4537 001 770 517 011\\n\\n$0.00 $398.73\\n\\nInterest charges posted on statement date\\n\\nCash advances/cheques\\n\\n$0.00\\n\\nSpecial rate offers\\n\\n$0.00\\n\\nPurchases\\n\\n$0.00\\n\\nStatement Period Statement date Account # Page\\n\\n- Sep 6, 2024 Sep 6, 2024 4537 001 770 517 011 1 of 3\\n\\nScotia Momentum® No-Fee VISA* Card', metadata={'source': 'data/statements/Statements 9.pdf'})"
      ]
     },
     "execution_count": 27,
     "metadata": {},
     "output_type": "execute_result"
    }
   ],
   "execution_count": 27
  },
  {
   "cell_type": "code",
   "id": "d3e6463469362cf8",
   "metadata": {
    "ExecuteTime": {
     "end_time": "2025-11-01T07:13:42.084571Z",
     "start_time": "2025-11-01T07:13:40.674538Z"
    }
   },
   "source": [
    "def create_save_vectorstore(chunks, vectorestore_dir):\n",
    "    embeddings = OpenAIEmbeddings(openai_api_key=OPENAI_API_KEY)\n",
    "    vectorestore = FAISS.from_documents(documents=chunks, embedding=embeddings)\n",
    "    vectorestore.save_local(vectorestore_dir)\n",
    "    print(f\"Vectorstore saved to {vectorestore_dir}\")\n",
    "\n",
    "create_save_vectorstore(chunks, VECTOR_STORE_PATH)"
   ],
   "outputs": [
    {
     "name": "stdout",
     "output_type": "stream",
     "text": [
      "Vectorstore saved to vectorstore\n"
     ]
    }
   ],
   "execution_count": 8
  },
  {
   "cell_type": "code",
   "id": "d488cb3787b15664",
   "metadata": {
    "ExecuteTime": {
     "end_time": "2025-11-01T07:13:42.094508Z",
     "start_time": "2025-11-01T07:13:42.092745Z"
    }
   },
   "source": [
    "def load_vectorstore(vectorstore_dir):\n",
    "    embeddings = OpenAIEmbeddings(openai_api_key=OPENAI_API_KEY)\n",
    "    return FAISS.load_local(\n",
    "        folder_path=vectorstore_dir,\n",
    "        embeddings=embeddings,\n",
    "        allow_dangerous_deserialization=True,\n",
    "    )"
   ],
   "outputs": [],
   "execution_count": 9
  },
  {
   "cell_type": "code",
   "id": "c55c831b4bb66ff3",
   "metadata": {
    "ExecuteTime": {
     "end_time": "2025-11-01T07:13:42.102903Z",
     "start_time": "2025-11-01T07:13:42.101034Z"
    }
   },
   "source": [
    "def ask_rag(question):\n",
    "    vectorstore = load_vectorstore(VECTOR_STORE_PATH)\n",
    "    retriever = vectorstore.as_retriever()\n",
    "    llm = ChatOpenAI(temperature=0, openai_api_key=OPENAI_API_KEY)\n",
    "    qa = RetrievalQA.from_chain_type(llm=llm, retriever=retriever)\n",
    "    return qa.invoke(question)"
   ],
   "outputs": [],
   "execution_count": 10
  },
  {
   "cell_type": "code",
   "id": "9d85d2e9f389ae2c",
   "metadata": {
    "ExecuteTime": {
     "end_time": "2025-11-01T14:45:27.254292Z",
     "start_time": "2025-11-01T14:45:25.904448Z"
    }
   },
   "source": "ask_rag(\"Can you tell me how much I spent in total on groceries last week? plus the date I made this transaction?\")",
   "outputs": [
    {
     "data": {
      "text/plain": [
       "{'query': 'Can you tell me how much I spent in total on groceries last week? plus the date I made this transaction?',\n",
       " 'result': \"I'm sorry, but I don't have the specific information about your grocery transactions from last week in the provided context. The transactions listed do not specify grocery purchases. You may need to review your statement or transaction history to find the total amount spent on groceries and the date of the transaction.\"}"
      ]
     },
     "execution_count": 32,
     "metadata": {},
     "output_type": "execute_result"
    }
   ],
   "execution_count": 32
  },
  {
   "cell_type": "code",
   "id": "c0b71e20a743ebd0",
   "metadata": {
    "ExecuteTime": {
     "end_time": "2025-11-01T07:13:43.244186Z",
     "start_time": "2025-11-01T07:13:43.242741Z"
    }
   },
   "source": "# !pip uninstall faiss-cpu faiss-gpu",
   "outputs": [],
   "execution_count": 12
  },
  {
   "metadata": {
    "ExecuteTime": {
     "end_time": "2025-11-01T07:13:43.252300Z",
     "start_time": "2025-11-01T07:13:43.250991Z"
    }
   },
   "cell_type": "code",
   "source": "",
   "id": "75c6f022ad21fd95",
   "outputs": [],
   "execution_count": null
  }
 ],
 "metadata": {
  "kernelspec": {
   "display_name": ".venv",
   "language": "python",
   "name": "python3"
  },
  "language_info": {
   "codemirror_mode": {
    "name": "ipython",
    "version": 3
   },
   "file_extension": ".py",
   "mimetype": "text/x-python",
   "name": "python",
   "nbconvert_exporter": "python",
   "pygments_lexer": "ipython3",
   "version": "3.11.14"
  }
 },
 "nbformat": 4,
 "nbformat_minor": 5
}
